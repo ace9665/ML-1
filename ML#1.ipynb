{
 "cells": [
  {
   "cell_type": "code",
   "execution_count": 23,
   "id": "4c3f5bd2",
   "metadata": {},
   "outputs": [
    {
     "ename": "KeyError",
     "evalue": "'content-length'",
     "output_type": "error",
     "traceback": [
      "\u001b[1;31m---------------------------------------------------------------------------\u001b[0m",
      "\u001b[1;31mKeyError\u001b[0m                                  Traceback (most recent call last)",
      "Cell \u001b[1;32mIn[23], line 3\u001b[0m\n\u001b[0;32m      1\u001b[0m \u001b[38;5;28;01mimport\u001b[39;00m \u001b[38;5;21;01mkaggle\u001b[39;00m\n\u001b[0;32m      2\u001b[0m kaggle\u001b[38;5;241m.\u001b[39mapi\u001b[38;5;241m.\u001b[39mauthenticate()\n\u001b[1;32m----> 3\u001b[0m kaggle\u001b[38;5;241m.\u001b[39mapi\u001b[38;5;241m.\u001b[39mdataset_download_files(\u001b[38;5;124m'\u001b[39m\u001b[38;5;124mgregorut/videogamesales\u001b[39m\u001b[38;5;124m'\u001b[39m, path \u001b[38;5;241m=\u001b[39m\u001b[38;5;124m'\u001b[39m\u001b[38;5;124mdata/\u001b[39m\u001b[38;5;124m'\u001b[39m, unzip\u001b[38;5;241m=\u001b[39m\u001b[38;5;28;01mTrue\u001b[39;00m)\n",
      "File \u001b[1;32mD:\\Softwares\\anaconda\\Lib\\site-packages\\kaggle\\api\\kaggle_api_extended.py:1447\u001b[0m, in \u001b[0;36mKaggleApi.dataset_download_files\u001b[1;34m(self, dataset, path, force, quiet, unzip)\u001b[0m\n\u001b[0;32m   1445\u001b[0m outfile \u001b[38;5;241m=\u001b[39m os\u001b[38;5;241m.\u001b[39mpath\u001b[38;5;241m.\u001b[39mjoin(effective_path, dataset_slug \u001b[38;5;241m+\u001b[39m \u001b[38;5;124m'\u001b[39m\u001b[38;5;124m.zip\u001b[39m\u001b[38;5;124m'\u001b[39m)\n\u001b[0;32m   1446\u001b[0m \u001b[38;5;28;01mif\u001b[39;00m force \u001b[38;5;129;01mor\u001b[39;00m \u001b[38;5;28mself\u001b[39m\u001b[38;5;241m.\u001b[39mdownload_needed(response, outfile, quiet):\n\u001b[1;32m-> 1447\u001b[0m     \u001b[38;5;28mself\u001b[39m\u001b[38;5;241m.\u001b[39mdownload_file(response, outfile, quiet, \u001b[38;5;129;01mnot\u001b[39;00m force)\n\u001b[0;32m   1448\u001b[0m     downloaded \u001b[38;5;241m=\u001b[39m \u001b[38;5;28;01mTrue\u001b[39;00m\n\u001b[0;32m   1449\u001b[0m \u001b[38;5;28;01melse\u001b[39;00m:\n",
      "File \u001b[1;32mD:\\Softwares\\anaconda\\Lib\\site-packages\\kaggle\\api\\kaggle_api_extended.py:1834\u001b[0m, in \u001b[0;36mKaggleApi.download_file\u001b[1;34m(self, response, outfile, quiet, resume, chunk_size)\u001b[0m\n\u001b[0;32m   1832\u001b[0m \u001b[38;5;28;01mif\u001b[39;00m \u001b[38;5;129;01mnot\u001b[39;00m os\u001b[38;5;241m.\u001b[39mpath\u001b[38;5;241m.\u001b[39mexists(outpath):\n\u001b[0;32m   1833\u001b[0m     os\u001b[38;5;241m.\u001b[39mmakedirs(outpath)\n\u001b[1;32m-> 1834\u001b[0m size \u001b[38;5;241m=\u001b[39m \u001b[38;5;28mint\u001b[39m(response\u001b[38;5;241m.\u001b[39mheaders[\u001b[38;5;124m'\u001b[39m\u001b[38;5;124mContent-Length\u001b[39m\u001b[38;5;124m'\u001b[39m])\n\u001b[0;32m   1835\u001b[0m size_read \u001b[38;5;241m=\u001b[39m \u001b[38;5;241m0\u001b[39m\n\u001b[0;32m   1836\u001b[0m open_mode \u001b[38;5;241m=\u001b[39m \u001b[38;5;124m'\u001b[39m\u001b[38;5;124mwb\u001b[39m\u001b[38;5;124m'\u001b[39m\n",
      "File \u001b[1;32mD:\\Softwares\\anaconda\\Lib\\site-packages\\urllib3\\_collections.py:157\u001b[0m, in \u001b[0;36mHTTPHeaderDict.__getitem__\u001b[1;34m(self, key)\u001b[0m\n\u001b[0;32m    156\u001b[0m \u001b[38;5;28;01mdef\u001b[39;00m \u001b[38;5;21m__getitem__\u001b[39m(\u001b[38;5;28mself\u001b[39m, key):\n\u001b[1;32m--> 157\u001b[0m     val \u001b[38;5;241m=\u001b[39m \u001b[38;5;28mself\u001b[39m\u001b[38;5;241m.\u001b[39m_container[key\u001b[38;5;241m.\u001b[39mlower()]\n\u001b[0;32m    158\u001b[0m     \u001b[38;5;28;01mreturn\u001b[39;00m \u001b[38;5;124m\"\u001b[39m\u001b[38;5;124m, \u001b[39m\u001b[38;5;124m\"\u001b[39m\u001b[38;5;241m.\u001b[39mjoin(val[\u001b[38;5;241m1\u001b[39m:])\n",
      "\u001b[1;31mKeyError\u001b[0m: 'content-length'"
     ]
    }
   ],
   "source": [
    "import kaggle\n",
    "kaggle.api.authenticate()\n",
    "kaggle.api.dataset_download_files('gregorut/videogamesales', path ='data/', unzip=True)"
   ]
  },
  {
   "cell_type": "code",
   "execution_count": 24,
   "id": "82c4cbea",
   "metadata": {},
   "outputs": [
    {
     "name": "stdout",
     "output_type": "stream",
     "text": [
      "Requirement already satisfied: kaggle in d:\\softwares\\anaconda\\lib\\site-packages (1.5.16)\n",
      "Requirement already satisfied: six>=1.10 in d:\\softwares\\anaconda\\lib\\site-packages (from kaggle) (1.16.0)\n",
      "Requirement already satisfied: certifi in d:\\softwares\\anaconda\\lib\\site-packages (from kaggle) (2023.7.22)\n",
      "Requirement already satisfied: python-dateutil in d:\\softwares\\anaconda\\lib\\site-packages (from kaggle) (2.8.2)\n",
      "Requirement already satisfied: requests in d:\\softwares\\anaconda\\lib\\site-packages (from kaggle) (2.31.0)\n",
      "Requirement already satisfied: tqdm in d:\\softwares\\anaconda\\lib\\site-packages (from kaggle) (4.65.0)\n",
      "Requirement already satisfied: python-slugify in d:\\softwares\\anaconda\\lib\\site-packages (from kaggle) (5.0.2)\n",
      "Requirement already satisfied: urllib3 in d:\\softwares\\anaconda\\lib\\site-packages (from kaggle) (1.26.16)\n",
      "Requirement already satisfied: bleach in d:\\softwares\\anaconda\\lib\\site-packages (from kaggle) (4.1.0)\n",
      "Requirement already satisfied: packaging in d:\\softwares\\anaconda\\lib\\site-packages (from bleach->kaggle) (23.0)\n",
      "Requirement already satisfied: webencodings in d:\\softwares\\anaconda\\lib\\site-packages (from bleach->kaggle) (0.5.1)\n",
      "Requirement already satisfied: text-unidecode>=1.3 in d:\\softwares\\anaconda\\lib\\site-packages (from python-slugify->kaggle) (1.3)\n",
      "Requirement already satisfied: charset-normalizer<4,>=2 in d:\\softwares\\anaconda\\lib\\site-packages (from requests->kaggle) (2.0.4)\n",
      "Requirement already satisfied: idna<4,>=2.5 in d:\\softwares\\anaconda\\lib\\site-packages (from requests->kaggle) (3.4)\n",
      "Requirement already satisfied: colorama in d:\\softwares\\anaconda\\lib\\site-packages (from tqdm->kaggle) (0.4.6)\n"
     ]
    }
   ],
   "source": [
    "!pip install --upgrade kaggle"
   ]
  },
  {
   "cell_type": "markdown",
   "id": "f7d17462",
   "metadata": {},
   "source": [
    "### kindly note that I have tried downloading the dataset directly from kaggle but have been facing issues due to which I am importing the dataset directly from my pc. (I am facing same issue using urllib and retrieve.)\n",
    "\n",
    "#Providing more info about this dataset:\n",
    "- Url: https://www.kaggle.com/datasets/gregorut/videogamesales\n",
    "- api: kaggle datasets download -d gregorut/videogamesales\n",
    "- name: Video Game Sales\n"
   ]
  },
  {
   "cell_type": "code",
   "execution_count": 63,
   "id": "c14a4e60",
   "metadata": {},
   "outputs": [],
   "source": [
    "#importing necessary python libraries\n",
    "import pandas as pd\n",
    "import numpy as np\n",
    "import matplotlib.pyplot as plt\n",
    "import seaborn as sns\n",
    "\n",
    "#importing csv file into a pandas dataframe\n",
    "df = pd.read_csv('vgsales.csv')"
   ]
  },
  {
   "cell_type": "code",
   "execution_count": 64,
   "id": "ada63bc9",
   "metadata": {},
   "outputs": [
    {
     "data": {
      "text/html": [
       "<div>\n",
       "<style scoped>\n",
       "    .dataframe tbody tr th:only-of-type {\n",
       "        vertical-align: middle;\n",
       "    }\n",
       "\n",
       "    .dataframe tbody tr th {\n",
       "        vertical-align: top;\n",
       "    }\n",
       "\n",
       "    .dataframe thead th {\n",
       "        text-align: right;\n",
       "    }\n",
       "</style>\n",
       "<table border=\"1\" class=\"dataframe\">\n",
       "  <thead>\n",
       "    <tr style=\"text-align: right;\">\n",
       "      <th></th>\n",
       "      <th>Rank</th>\n",
       "      <th>Name</th>\n",
       "      <th>Platform</th>\n",
       "      <th>Year</th>\n",
       "      <th>Genre</th>\n",
       "      <th>Publisher</th>\n",
       "      <th>NA_Sales</th>\n",
       "      <th>EU_Sales</th>\n",
       "      <th>JP_Sales</th>\n",
       "      <th>Other_Sales</th>\n",
       "      <th>Global_Sales</th>\n",
       "    </tr>\n",
       "  </thead>\n",
       "  <tbody>\n",
       "    <tr>\n",
       "      <th>0</th>\n",
       "      <td>1</td>\n",
       "      <td>Wii Sports</td>\n",
       "      <td>Wii</td>\n",
       "      <td>2006.0</td>\n",
       "      <td>Sports</td>\n",
       "      <td>Nintendo</td>\n",
       "      <td>41.49</td>\n",
       "      <td>29.02</td>\n",
       "      <td>3.77</td>\n",
       "      <td>8.46</td>\n",
       "      <td>82.74</td>\n",
       "    </tr>\n",
       "    <tr>\n",
       "      <th>1</th>\n",
       "      <td>2</td>\n",
       "      <td>Super Mario Bros.</td>\n",
       "      <td>NES</td>\n",
       "      <td>1985.0</td>\n",
       "      <td>Platform</td>\n",
       "      <td>Nintendo</td>\n",
       "      <td>29.08</td>\n",
       "      <td>3.58</td>\n",
       "      <td>6.81</td>\n",
       "      <td>0.77</td>\n",
       "      <td>40.24</td>\n",
       "    </tr>\n",
       "    <tr>\n",
       "      <th>2</th>\n",
       "      <td>3</td>\n",
       "      <td>Mario Kart Wii</td>\n",
       "      <td>Wii</td>\n",
       "      <td>2008.0</td>\n",
       "      <td>Racing</td>\n",
       "      <td>Nintendo</td>\n",
       "      <td>15.85</td>\n",
       "      <td>12.88</td>\n",
       "      <td>3.79</td>\n",
       "      <td>3.31</td>\n",
       "      <td>35.82</td>\n",
       "    </tr>\n",
       "    <tr>\n",
       "      <th>3</th>\n",
       "      <td>4</td>\n",
       "      <td>Wii Sports Resort</td>\n",
       "      <td>Wii</td>\n",
       "      <td>2009.0</td>\n",
       "      <td>Sports</td>\n",
       "      <td>Nintendo</td>\n",
       "      <td>15.75</td>\n",
       "      <td>11.01</td>\n",
       "      <td>3.28</td>\n",
       "      <td>2.96</td>\n",
       "      <td>33.00</td>\n",
       "    </tr>\n",
       "    <tr>\n",
       "      <th>4</th>\n",
       "      <td>5</td>\n",
       "      <td>Pokemon Red/Pokemon Blue</td>\n",
       "      <td>GB</td>\n",
       "      <td>1996.0</td>\n",
       "      <td>Role-Playing</td>\n",
       "      <td>Nintendo</td>\n",
       "      <td>11.27</td>\n",
       "      <td>8.89</td>\n",
       "      <td>10.22</td>\n",
       "      <td>1.00</td>\n",
       "      <td>31.37</td>\n",
       "    </tr>\n",
       "  </tbody>\n",
       "</table>\n",
       "</div>"
      ],
      "text/plain": [
       "   Rank                      Name Platform    Year         Genre Publisher  \\\n",
       "0     1                Wii Sports      Wii  2006.0        Sports  Nintendo   \n",
       "1     2         Super Mario Bros.      NES  1985.0      Platform  Nintendo   \n",
       "2     3            Mario Kart Wii      Wii  2008.0        Racing  Nintendo   \n",
       "3     4         Wii Sports Resort      Wii  2009.0        Sports  Nintendo   \n",
       "4     5  Pokemon Red/Pokemon Blue       GB  1996.0  Role-Playing  Nintendo   \n",
       "\n",
       "   NA_Sales  EU_Sales  JP_Sales  Other_Sales  Global_Sales  \n",
       "0     41.49     29.02      3.77         8.46         82.74  \n",
       "1     29.08      3.58      6.81         0.77         40.24  \n",
       "2     15.85     12.88      3.79         3.31         35.82  \n",
       "3     15.75     11.01      3.28         2.96         33.00  \n",
       "4     11.27      8.89     10.22         1.00         31.37  "
      ]
     },
     "execution_count": 64,
     "metadata": {},
     "output_type": "execute_result"
    }
   ],
   "source": [
    "#viewing few elements of the top of the dataframe\n",
    "df.head()"
   ]
  },
  {
   "cell_type": "markdown",
   "id": "4544a864",
   "metadata": {},
   "source": [
    "### The dataset contains a list of video games with sales greater than 100,000 copies"
   ]
  },
  {
   "cell_type": "code",
   "execution_count": 65,
   "id": "09b450f5",
   "metadata": {},
   "outputs": [
    {
     "data": {
      "text/plain": [
       "(16598, 11)"
      ]
     },
     "execution_count": 65,
     "metadata": {},
     "output_type": "execute_result"
    }
   ],
   "source": [
    "#describing the shape of the dataframe\n",
    "df.shape"
   ]
  },
  {
   "cell_type": "markdown",
   "id": "bb9f25de",
   "metadata": {},
   "source": [
    "### we can see that the 2-D dataframe has 16598 rows and 11 columns in total."
   ]
  },
  {
   "cell_type": "code",
   "execution_count": 66,
   "id": "bff12fe0",
   "metadata": {},
   "outputs": [
    {
     "data": {
      "text/html": [
       "<div>\n",
       "<style scoped>\n",
       "    .dataframe tbody tr th:only-of-type {\n",
       "        vertical-align: middle;\n",
       "    }\n",
       "\n",
       "    .dataframe tbody tr th {\n",
       "        vertical-align: top;\n",
       "    }\n",
       "\n",
       "    .dataframe thead th {\n",
       "        text-align: right;\n",
       "    }\n",
       "</style>\n",
       "<table border=\"1\" class=\"dataframe\">\n",
       "  <thead>\n",
       "    <tr style=\"text-align: right;\">\n",
       "      <th></th>\n",
       "      <th>Rank</th>\n",
       "      <th>Year</th>\n",
       "      <th>NA_Sales</th>\n",
       "      <th>EU_Sales</th>\n",
       "      <th>JP_Sales</th>\n",
       "      <th>Other_Sales</th>\n",
       "      <th>Global_Sales</th>\n",
       "    </tr>\n",
       "  </thead>\n",
       "  <tbody>\n",
       "    <tr>\n",
       "      <th>count</th>\n",
       "      <td>16598.000000</td>\n",
       "      <td>16327.000000</td>\n",
       "      <td>16598.000000</td>\n",
       "      <td>16598.000000</td>\n",
       "      <td>16598.000000</td>\n",
       "      <td>16598.000000</td>\n",
       "      <td>16598.000000</td>\n",
       "    </tr>\n",
       "    <tr>\n",
       "      <th>mean</th>\n",
       "      <td>8300.605254</td>\n",
       "      <td>2006.406443</td>\n",
       "      <td>0.264667</td>\n",
       "      <td>0.146652</td>\n",
       "      <td>0.077782</td>\n",
       "      <td>0.048063</td>\n",
       "      <td>0.537441</td>\n",
       "    </tr>\n",
       "    <tr>\n",
       "      <th>std</th>\n",
       "      <td>4791.853933</td>\n",
       "      <td>5.828981</td>\n",
       "      <td>0.816683</td>\n",
       "      <td>0.505351</td>\n",
       "      <td>0.309291</td>\n",
       "      <td>0.188588</td>\n",
       "      <td>1.555028</td>\n",
       "    </tr>\n",
       "    <tr>\n",
       "      <th>min</th>\n",
       "      <td>1.000000</td>\n",
       "      <td>1980.000000</td>\n",
       "      <td>0.000000</td>\n",
       "      <td>0.000000</td>\n",
       "      <td>0.000000</td>\n",
       "      <td>0.000000</td>\n",
       "      <td>0.010000</td>\n",
       "    </tr>\n",
       "    <tr>\n",
       "      <th>25%</th>\n",
       "      <td>4151.250000</td>\n",
       "      <td>2003.000000</td>\n",
       "      <td>0.000000</td>\n",
       "      <td>0.000000</td>\n",
       "      <td>0.000000</td>\n",
       "      <td>0.000000</td>\n",
       "      <td>0.060000</td>\n",
       "    </tr>\n",
       "    <tr>\n",
       "      <th>50%</th>\n",
       "      <td>8300.500000</td>\n",
       "      <td>2007.000000</td>\n",
       "      <td>0.080000</td>\n",
       "      <td>0.020000</td>\n",
       "      <td>0.000000</td>\n",
       "      <td>0.010000</td>\n",
       "      <td>0.170000</td>\n",
       "    </tr>\n",
       "    <tr>\n",
       "      <th>75%</th>\n",
       "      <td>12449.750000</td>\n",
       "      <td>2010.000000</td>\n",
       "      <td>0.240000</td>\n",
       "      <td>0.110000</td>\n",
       "      <td>0.040000</td>\n",
       "      <td>0.040000</td>\n",
       "      <td>0.470000</td>\n",
       "    </tr>\n",
       "    <tr>\n",
       "      <th>max</th>\n",
       "      <td>16600.000000</td>\n",
       "      <td>2020.000000</td>\n",
       "      <td>41.490000</td>\n",
       "      <td>29.020000</td>\n",
       "      <td>10.220000</td>\n",
       "      <td>10.570000</td>\n",
       "      <td>82.740000</td>\n",
       "    </tr>\n",
       "  </tbody>\n",
       "</table>\n",
       "</div>"
      ],
      "text/plain": [
       "               Rank          Year      NA_Sales      EU_Sales      JP_Sales  \\\n",
       "count  16598.000000  16327.000000  16598.000000  16598.000000  16598.000000   \n",
       "mean    8300.605254   2006.406443      0.264667      0.146652      0.077782   \n",
       "std     4791.853933      5.828981      0.816683      0.505351      0.309291   \n",
       "min        1.000000   1980.000000      0.000000      0.000000      0.000000   \n",
       "25%     4151.250000   2003.000000      0.000000      0.000000      0.000000   \n",
       "50%     8300.500000   2007.000000      0.080000      0.020000      0.000000   \n",
       "75%    12449.750000   2010.000000      0.240000      0.110000      0.040000   \n",
       "max    16600.000000   2020.000000     41.490000     29.020000     10.220000   \n",
       "\n",
       "        Other_Sales  Global_Sales  \n",
       "count  16598.000000  16598.000000  \n",
       "mean       0.048063      0.537441  \n",
       "std        0.188588      1.555028  \n",
       "min        0.000000      0.010000  \n",
       "25%        0.000000      0.060000  \n",
       "50%        0.010000      0.170000  \n",
       "75%        0.040000      0.470000  \n",
       "max       10.570000     82.740000  "
      ]
     },
     "execution_count": 66,
     "metadata": {},
     "output_type": "execute_result"
    }
   ],
   "source": [
    "#shows some certain mathematical data for this dataframe.\n",
    "df.describe()"
   ]
  },
  {
   "cell_type": "markdown",
   "id": "ed534a1e",
   "metadata": {},
   "source": [
    "### we can see that some of the data might be inconsistent. For eg., The coloumn has a count of 16327 entries for a total of 16598 entries in other attributes. This means that there are null values presesnt in the coloumn Year which will require cleanup.\n",
    "\n",
    "### we can also study some other important aspects of the dataset using describe. For eg., we can see that the starting year for this dataset is the year 1980 and the ending year is 2020."
   ]
  },
  {
   "cell_type": "code",
   "execution_count": 67,
   "id": "67df9e2a",
   "metadata": {},
   "outputs": [
    {
     "name": "stdout",
     "output_type": "stream",
     "text": [
      "<class 'pandas.core.frame.DataFrame'>\n",
      "RangeIndex: 16598 entries, 0 to 16597\n",
      "Data columns (total 11 columns):\n",
      " #   Column        Non-Null Count  Dtype  \n",
      "---  ------        --------------  -----  \n",
      " 0   Rank          16598 non-null  int64  \n",
      " 1   Name          16598 non-null  object \n",
      " 2   Platform      16598 non-null  object \n",
      " 3   Year          16327 non-null  float64\n",
      " 4   Genre         16598 non-null  object \n",
      " 5   Publisher     16540 non-null  object \n",
      " 6   NA_Sales      16598 non-null  float64\n",
      " 7   EU_Sales      16598 non-null  float64\n",
      " 8   JP_Sales      16598 non-null  float64\n",
      " 9   Other_Sales   16598 non-null  float64\n",
      " 10  Global_Sales  16598 non-null  float64\n",
      "dtypes: float64(6), int64(1), object(4)\n",
      "memory usage: 1.4+ MB\n"
     ]
    }
   ],
   "source": [
    "#some more insights into the dataset \n",
    "df.info()"
   ]
  },
  {
   "cell_type": "code",
   "execution_count": 68,
   "id": "032d707a",
   "metadata": {},
   "outputs": [
    {
     "data": {
      "text/plain": [
       "Rank              0\n",
       "Name              0\n",
       "Platform          0\n",
       "Year            271\n",
       "Genre             0\n",
       "Publisher        58\n",
       "NA_Sales          0\n",
       "EU_Sales          0\n",
       "JP_Sales          0\n",
       "Other_Sales       0\n",
       "Global_Sales      0\n",
       "dtype: int64"
      ]
     },
     "execution_count": 68,
     "metadata": {},
     "output_type": "execute_result"
    }
   ],
   "source": [
    "#checking for the null values\n",
    "df.isna().sum()"
   ]
  },
  {
   "cell_type": "markdown",
   "id": "6c33487a",
   "metadata": {},
   "source": [
    "### As mentioned above, the dataset contains null values for the attribute 'Year' and also for 'Publisher'"
   ]
  },
  {
   "cell_type": "code",
   "execution_count": 69,
   "id": "30861a73",
   "metadata": {},
   "outputs": [
    {
     "data": {
      "text/plain": [
       "Rank            0\n",
       "Name            0\n",
       "Platform        0\n",
       "Year            0\n",
       "Genre           0\n",
       "Publisher       0\n",
       "NA_Sales        0\n",
       "EU_Sales        0\n",
       "JP_Sales        0\n",
       "Other_Sales     0\n",
       "Global_Sales    0\n",
       "dtype: int64"
      ]
     },
     "execution_count": 69,
     "metadata": {},
     "output_type": "execute_result"
    }
   ],
   "source": [
    "# dropping all the null values\n",
    "df = df.dropna()\n",
    "\n",
    "#verifying whether there are any more null values\n",
    "df.isna().sum()"
   ]
  },
  {
   "cell_type": "code",
   "execution_count": 70,
   "id": "7e2426fb",
   "metadata": {},
   "outputs": [
    {
     "data": {
      "image/png": "[encoded data removed]",
      "text/plain": [
       "<Figure size 700x700 with 1 Axes>"
      ]
     },
     "metadata": {},
     "output_type": "display_data"
    }
   ],
   "source": [
    "# Import the matplotlib library\n",
    "import matplotlib as mpl\n",
    "\n",
    "# Group the dataframe by Genre and count the number of Global_Sales\n",
    "# Then select the top 10 genres\n",
    "game = df.groupby(\"Genre\")[\"Global_Sales\"].count().head(10)\n",
    "\n",
    "# Create a custom color map that maps the game counts to colors\n",
    "# using the PuBu colormap\n",
    "custom_colors = mpl.colors.Normalize(vmin=min(game), vmax=max(game))\n",
    "colours = [mpl.cm.PuBu(custom_colors(i)) for i in game]\n",
    "\n",
    "# Create a figure with a size of 7 by 7 inches\n",
    "plt.figure(figsize=(7,7))\n",
    "\n",
    "# Plot a pie chart of the game counts with the corresponding labels and colors\n",
    "plt.pie(game, labels=game.index, colors=colours)\n",
    "\n",
    "# Create a white circle at the center of the pie chart\n",
    "central_circle = plt.Circle((0, 0), 0.5, color='white')\n",
    "\n",
    "# Get the current figure and add the circle to it\n",
    "fig = plt.gcf()\n",
    "fig.gca().add_artist(central_circle)\n",
    "\n",
    "# Set the font size to 12\n",
    "plt.rc('font', size=12)\n",
    "\n",
    "# Set the title of the plot with a font size of 20\n",
    "plt.title(\"Top 10 Categories of Games Sold\", fontsize=20)\n",
    "\n",
    "# Show the plot on the screen\n",
    "plt.show()"
   ]
  },
  {
   "cell_type": "markdown",
   "id": "9e60a64c",
   "metadata": {},
   "source": [
    "### A comparison of game sales by category"
   ]
  },
  {
   "cell_type": "code",
   "execution_count": 71,
   "id": "5835813b",
   "metadata": {},
   "outputs": [
    {
     "name": "stdout",
     "output_type": "stream",
     "text": [
      "                  Rank      Year  NA_Sales  EU_Sales  JP_Sales  Other_Sales  \\\n",
      "Rank          1.000000  0.178027 -0.400315 -0.379137 -0.269323    -0.332735   \n",
      "Year          0.178027  1.000000 -0.091285  0.006108 -0.169387     0.041128   \n",
      "NA_Sales     -0.400315 -0.091285  1.000000  0.768923  0.451283     0.634518   \n",
      "EU_Sales     -0.379137  0.006108  0.768923  1.000000  0.436379     0.726256   \n",
      "JP_Sales     -0.269323 -0.169387  0.451283  0.436379  1.000000     0.290559   \n",
      "Other_Sales  -0.332735  0.041128  0.634518  0.726256  0.290559     1.000000   \n",
      "Global_Sales -0.426975 -0.074647  0.941269  0.903264  0.612774     0.747964   \n",
      "\n",
      "              Global_Sales  \n",
      "Rank             -0.426975  \n",
      "Year             -0.074647  \n",
      "NA_Sales          0.941269  \n",
      "EU_Sales          0.903264  \n",
      "JP_Sales          0.612774  \n",
      "Other_Sales       0.747964  \n",
      "Global_Sales      1.000000  \n"
     ]
    },
    {
     "name": "stderr",
     "output_type": "stream",
     "text": [
      "C:\\Users\\ace9665\\AppData\\Local\\Temp\\ipykernel_22056\\1634559005.py:2: FutureWarning: The default value of numeric_only in DataFrame.corr is deprecated. In a future version, it will default to False. Select only valid columns or specify the value of numeric_only to silence this warning.\n",
      "  corr_matrix = df.corr()\n"
     ]
    },
    {
     "data": {
      "image/png": "[encoded data removed]",
      "text/plain": [
       "<Figure size 640x480 with 2 Axes>"
      ]
     },
     "metadata": {},
     "output_type": "display_data"
    }
   ],
   "source": [
    "# Compute and print the correlation matrix of the dataframe\n",
    "corr_matrix = df.corr()\n",
    "print(corr_matrix)\n",
    "\n",
    "# Plot a heatmap of the correlation matrix using a yellow-orange-brown colormap\n",
    "sns.heatmap(corr_matrix, cmap=\"YlOrBr\")\n",
    "\n",
    "# Show the heatmap on the screen\n",
    "plt.show()"
   ]
  },
  {
   "cell_type": "markdown",
   "id": "a3774c30",
   "metadata": {},
   "source": [
    "### After studying the correlation between the data we can make out certain assumptions after visually studying the dataset. For eg., We can see the impact of global sales directly on NA_Sales and vice versa."
   ]
  },
  {
   "cell_type": "markdown",
   "id": "c2604de3",
   "metadata": {},
   "source": [
    "# Machine Learn code : \n",
    "\n",
    "### The code will use two different machine learning models, a decision tree regressor and a linear regression model, to predict the global sales of video games based on their rank and sales in different regions. "
   ]
  },
  {
   "cell_type": "code",
   "execution_count": 72,
   "id": "f9bd8e15",
   "metadata": {},
   "outputs": [],
   "source": [
    "# converting dependent(Global Sales) and independent variables\n",
    "## (Rank, NA_Sales, EU_Sales, JP_Sales, Other_Sales) into two separate data frames: x and y\n",
    "x = df[[\"Rank\", \"NA_Sales\", \"EU_Sales\", \"JP_Sales\", \"Other_Sales\"]]\n",
    "y = df[\"Global_Sales\"]"
   ]
  },
  {
   "cell_type": "code",
   "execution_count": 73,
   "id": "f8a6bd5c",
   "metadata": {},
   "outputs": [],
   "source": [
    "#Import the train_test_split function from the sklearn.model_selection module\n",
    "from sklearn.model_selection import train_test_split\n",
    "\n",
    "# Split the data into training and testing sets, with 80% of the data for training and 20% for testing\n",
    "# Set a random seed of 42 for reproducibility\n",
    "xtrain, xtest, ytrain, ytest = train_test_split(x, y, test_size=0.2, random_state=42)"
   ]
  },
  {
   "cell_type": "markdown",
   "id": "a5fc6a3d",
   "metadata": {},
   "source": [
    "# Decision Tree:"
   ]
  },
  {
   "cell_type": "code",
   "execution_count": 74,
   "id": "fc9cc109",
   "metadata": {},
   "outputs": [],
   "source": [
    "# Import the DecisionTreeRegressor class from the sklearn.tree module\n",
    "from sklearn.tree import DecisionTreeRegressor\n",
    "\n",
    "# Create and train a decision tree regressor model\n",
    "model = DecisionTreeRegressor()\n",
    "model.fit(xtrain, ytrain)\n",
    "\n",
    "# Make predictions on the testing data using the decision tree model\n",
    "predictions = model.predict(xtest)"
   ]
  },
  {
   "cell_type": "code",
   "execution_count": 75,
   "id": "5faa617b",
   "metadata": {},
   "outputs": [
    {
     "data": {
      "text/plain": [
       "array([0.57, 0.07, 0.19, ..., 0.09, 0.13, 0.19])"
      ]
     },
     "execution_count": 75,
     "metadata": {},
     "output_type": "execute_result"
    }
   ],
   "source": [
    "# print the predictions\n",
    "predictions"
   ]
  },
  {
   "cell_type": "markdown",
   "id": "d62df7fe",
   "metadata": {},
   "source": [
    "# Linear Regression Model:"
   ]
  },
  {
   "cell_type": "code",
   "execution_count": 76,
   "id": "e7609303",
   "metadata": {},
   "outputs": [],
   "source": [
    "# Import the LinearRegression class from the sklearn.linear_model module\n",
    "from sklearn.linear_model import LinearRegression\n",
    "\n",
    "# Create and train a linear regression model\n",
    "model = LinearRegression()\n",
    "model.fit(xtrain, ytrain)\n",
    "\n",
    "# Make predictions on the testing data using the linear regression model\n",
    "predictions = model.predict(xtest)"
   ]
  },
  {
   "cell_type": "code",
   "execution_count": 77,
   "id": "1e42794b",
   "metadata": {},
   "outputs": [
    {
     "data": {
      "text/plain": [
       "array([0.56992573, 0.06056453, 0.19027598, ..., 0.09048589, 0.13035485,\n",
       "       0.18025191])"
      ]
     },
     "execution_count": 77,
     "metadata": {},
     "output_type": "execute_result"
    }
   ],
   "source": [
    "# print the predictions\n",
    "predictions"
   ]
  },
  {
   "cell_type": "markdown",
   "id": "06f08fed",
   "metadata": {},
   "source": [
    "# Notes: \n",
    "\n",
    "- At the moment I do not have the actual values of the predictions or the evaluation metrics, so it is hard to draw a conclusion about the performance of the models.\n",
    "\n",
    "- We can see that the results using both the models are pretty similar although The code is not using any feature scaling or transformation, which might affect the accuracy of the models.\n",
    "\n",
    "- The code is not using any cross-validation or regularization techniques, which might help to prevent overfitting or underfitting of the models.\n"
   ]
  },
  {
   "cell_type": "markdown",
   "id": "71958f7f",
   "metadata": {},
   "source": [
    "# Improvements that could be made:\n",
    "\n",
    "- Would properly make a comparison after getting actual values or evaluation metrics using sklearn.metrics\n",
    "- Could use feature scaling or transformation to make the data more suitable for the linear regression model.\n",
    "- Could use cross-validation or regularization techniques to reduce the variance or bias of the models.\n"
   ]
  }
 ],
 "metadata": {
  "kernelspec": {
   "display_name": "Python 3 (ipykernel)",
   "language": "python",
   "name": "python3"
  },
  "language_info": {
   "codemirror_mode": {
    "name": "ipython",
    "version": 3
   },
   "file_extension": ".py",
   "mimetype": "text/x-python",
   "name": "python",
   "nbconvert_exporter": "python",
   "pygments_lexer": "ipython3",
   "version": "3.11.4"
  }
 },
 "nbformat": 4,
 "nbformat_minor": 5
}
